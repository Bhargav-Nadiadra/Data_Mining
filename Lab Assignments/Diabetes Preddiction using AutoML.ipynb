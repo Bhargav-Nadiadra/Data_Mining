{
 "cells": [
  {
   "cell_type": "markdown",
   "id": "54fd923a",
   "metadata": {},
   "source": [
    "# Assignment 6"
   ]
  },
  {
   "cell_type": "code",
   "execution_count": 29,
   "id": "96c3f4d1",
   "metadata": {},
   "outputs": [],
   "source": [
    "import numpy as np\n",
    "import pandas as pd\n",
    "import seaborn as sns\n",
    "import matplotlib.pyplot as plt"
   ]
  },
  {
   "cell_type": "code",
   "execution_count": 30,
   "id": "f43ed532",
   "metadata": {},
   "outputs": [
    {
     "data": {
      "text/html": [
       "<div>\n",
       "<style scoped>\n",
       "    .dataframe tbody tr th:only-of-type {\n",
       "        vertical-align: middle;\n",
       "    }\n",
       "\n",
       "    .dataframe tbody tr th {\n",
       "        vertical-align: top;\n",
       "    }\n",
       "\n",
       "    .dataframe thead th {\n",
       "        text-align: right;\n",
       "    }\n",
       "</style>\n",
       "<table border=\"1\" class=\"dataframe\">\n",
       "  <thead>\n",
       "    <tr style=\"text-align: right;\">\n",
       "      <th></th>\n",
       "      <th>Pregnancies</th>\n",
       "      <th>Glucose</th>\n",
       "      <th>BloodPressure</th>\n",
       "      <th>SkinThickness</th>\n",
       "      <th>Insulin</th>\n",
       "      <th>BMI</th>\n",
       "      <th>DiabetesPedigreeFunction</th>\n",
       "      <th>Age</th>\n",
       "      <th>Outcome</th>\n",
       "    </tr>\n",
       "  </thead>\n",
       "  <tbody>\n",
       "    <tr>\n",
       "      <th>0</th>\n",
       "      <td>6</td>\n",
       "      <td>148</td>\n",
       "      <td>72</td>\n",
       "      <td>35</td>\n",
       "      <td>0</td>\n",
       "      <td>33.6</td>\n",
       "      <td>0.627</td>\n",
       "      <td>50</td>\n",
       "      <td>1</td>\n",
       "    </tr>\n",
       "    <tr>\n",
       "      <th>1</th>\n",
       "      <td>1</td>\n",
       "      <td>85</td>\n",
       "      <td>66</td>\n",
       "      <td>29</td>\n",
       "      <td>0</td>\n",
       "      <td>26.6</td>\n",
       "      <td>0.351</td>\n",
       "      <td>31</td>\n",
       "      <td>0</td>\n",
       "    </tr>\n",
       "    <tr>\n",
       "      <th>2</th>\n",
       "      <td>8</td>\n",
       "      <td>183</td>\n",
       "      <td>64</td>\n",
       "      <td>0</td>\n",
       "      <td>0</td>\n",
       "      <td>23.3</td>\n",
       "      <td>0.672</td>\n",
       "      <td>32</td>\n",
       "      <td>1</td>\n",
       "    </tr>\n",
       "    <tr>\n",
       "      <th>3</th>\n",
       "      <td>1</td>\n",
       "      <td>89</td>\n",
       "      <td>66</td>\n",
       "      <td>23</td>\n",
       "      <td>94</td>\n",
       "      <td>28.1</td>\n",
       "      <td>0.167</td>\n",
       "      <td>21</td>\n",
       "      <td>0</td>\n",
       "    </tr>\n",
       "    <tr>\n",
       "      <th>4</th>\n",
       "      <td>0</td>\n",
       "      <td>137</td>\n",
       "      <td>40</td>\n",
       "      <td>35</td>\n",
       "      <td>168</td>\n",
       "      <td>43.1</td>\n",
       "      <td>2.288</td>\n",
       "      <td>33</td>\n",
       "      <td>1</td>\n",
       "    </tr>\n",
       "  </tbody>\n",
       "</table>\n",
       "</div>"
      ],
      "text/plain": [
       "   Pregnancies  Glucose  BloodPressure  SkinThickness  Insulin   BMI  \\\n",
       "0            6      148             72             35        0  33.6   \n",
       "1            1       85             66             29        0  26.6   \n",
       "2            8      183             64              0        0  23.3   \n",
       "3            1       89             66             23       94  28.1   \n",
       "4            0      137             40             35      168  43.1   \n",
       "\n",
       "   DiabetesPedigreeFunction  Age  Outcome  \n",
       "0                     0.627   50        1  \n",
       "1                     0.351   31        0  \n",
       "2                     0.672   32        1  \n",
       "3                     0.167   21        0  \n",
       "4                     2.288   33        1  "
      ]
     },
     "execution_count": 30,
     "metadata": {},
     "output_type": "execute_result"
    }
   ],
   "source": [
    "data = pd.read_csv(r\"C:\\Users\\bharg\\Downloads\\diabetes.csv\")\n",
    "data.head()"
   ]
  },
  {
   "cell_type": "code",
   "execution_count": 31,
   "id": "baccdaee",
   "metadata": {},
   "outputs": [
    {
     "data": {
      "text/html": [
       "<div>\n",
       "<style scoped>\n",
       "    .dataframe tbody tr th:only-of-type {\n",
       "        vertical-align: middle;\n",
       "    }\n",
       "\n",
       "    .dataframe tbody tr th {\n",
       "        vertical-align: top;\n",
       "    }\n",
       "\n",
       "    .dataframe thead th {\n",
       "        text-align: right;\n",
       "    }\n",
       "</style>\n",
       "<table border=\"1\" class=\"dataframe\">\n",
       "  <thead>\n",
       "    <tr style=\"text-align: right;\">\n",
       "      <th></th>\n",
       "      <th>Pregnancies</th>\n",
       "      <th>Glucose</th>\n",
       "      <th>BloodPressure</th>\n",
       "      <th>SkinThickness</th>\n",
       "      <th>Insulin</th>\n",
       "      <th>BMI</th>\n",
       "      <th>DiabetesPedigreeFunction</th>\n",
       "      <th>Age</th>\n",
       "      <th>Outcome</th>\n",
       "    </tr>\n",
       "  </thead>\n",
       "  <tbody>\n",
       "    <tr>\n",
       "      <th>count</th>\n",
       "      <td>768.000000</td>\n",
       "      <td>768.000000</td>\n",
       "      <td>768.000000</td>\n",
       "      <td>768.000000</td>\n",
       "      <td>768.000000</td>\n",
       "      <td>768.000000</td>\n",
       "      <td>768.000000</td>\n",
       "      <td>768.000000</td>\n",
       "      <td>768.000000</td>\n",
       "    </tr>\n",
       "    <tr>\n",
       "      <th>mean</th>\n",
       "      <td>3.845052</td>\n",
       "      <td>120.894531</td>\n",
       "      <td>69.105469</td>\n",
       "      <td>20.536458</td>\n",
       "      <td>79.799479</td>\n",
       "      <td>31.992578</td>\n",
       "      <td>0.471876</td>\n",
       "      <td>33.240885</td>\n",
       "      <td>0.348958</td>\n",
       "    </tr>\n",
       "    <tr>\n",
       "      <th>std</th>\n",
       "      <td>3.369578</td>\n",
       "      <td>31.972618</td>\n",
       "      <td>19.355807</td>\n",
       "      <td>15.952218</td>\n",
       "      <td>115.244002</td>\n",
       "      <td>7.884160</td>\n",
       "      <td>0.331329</td>\n",
       "      <td>11.760232</td>\n",
       "      <td>0.476951</td>\n",
       "    </tr>\n",
       "    <tr>\n",
       "      <th>min</th>\n",
       "      <td>0.000000</td>\n",
       "      <td>0.000000</td>\n",
       "      <td>0.000000</td>\n",
       "      <td>0.000000</td>\n",
       "      <td>0.000000</td>\n",
       "      <td>0.000000</td>\n",
       "      <td>0.078000</td>\n",
       "      <td>21.000000</td>\n",
       "      <td>0.000000</td>\n",
       "    </tr>\n",
       "    <tr>\n",
       "      <th>25%</th>\n",
       "      <td>1.000000</td>\n",
       "      <td>99.000000</td>\n",
       "      <td>62.000000</td>\n",
       "      <td>0.000000</td>\n",
       "      <td>0.000000</td>\n",
       "      <td>27.300000</td>\n",
       "      <td>0.243750</td>\n",
       "      <td>24.000000</td>\n",
       "      <td>0.000000</td>\n",
       "    </tr>\n",
       "    <tr>\n",
       "      <th>50%</th>\n",
       "      <td>3.000000</td>\n",
       "      <td>117.000000</td>\n",
       "      <td>72.000000</td>\n",
       "      <td>23.000000</td>\n",
       "      <td>30.500000</td>\n",
       "      <td>32.000000</td>\n",
       "      <td>0.372500</td>\n",
       "      <td>29.000000</td>\n",
       "      <td>0.000000</td>\n",
       "    </tr>\n",
       "    <tr>\n",
       "      <th>75%</th>\n",
       "      <td>6.000000</td>\n",
       "      <td>140.250000</td>\n",
       "      <td>80.000000</td>\n",
       "      <td>32.000000</td>\n",
       "      <td>127.250000</td>\n",
       "      <td>36.600000</td>\n",
       "      <td>0.626250</td>\n",
       "      <td>41.000000</td>\n",
       "      <td>1.000000</td>\n",
       "    </tr>\n",
       "    <tr>\n",
       "      <th>max</th>\n",
       "      <td>17.000000</td>\n",
       "      <td>199.000000</td>\n",
       "      <td>122.000000</td>\n",
       "      <td>99.000000</td>\n",
       "      <td>846.000000</td>\n",
       "      <td>67.100000</td>\n",
       "      <td>2.420000</td>\n",
       "      <td>81.000000</td>\n",
       "      <td>1.000000</td>\n",
       "    </tr>\n",
       "  </tbody>\n",
       "</table>\n",
       "</div>"
      ],
      "text/plain": [
       "       Pregnancies     Glucose  BloodPressure  SkinThickness     Insulin  \\\n",
       "count   768.000000  768.000000     768.000000     768.000000  768.000000   \n",
       "mean      3.845052  120.894531      69.105469      20.536458   79.799479   \n",
       "std       3.369578   31.972618      19.355807      15.952218  115.244002   \n",
       "min       0.000000    0.000000       0.000000       0.000000    0.000000   \n",
       "25%       1.000000   99.000000      62.000000       0.000000    0.000000   \n",
       "50%       3.000000  117.000000      72.000000      23.000000   30.500000   \n",
       "75%       6.000000  140.250000      80.000000      32.000000  127.250000   \n",
       "max      17.000000  199.000000     122.000000      99.000000  846.000000   \n",
       "\n",
       "              BMI  DiabetesPedigreeFunction         Age     Outcome  \n",
       "count  768.000000                768.000000  768.000000  768.000000  \n",
       "mean    31.992578                  0.471876   33.240885    0.348958  \n",
       "std      7.884160                  0.331329   11.760232    0.476951  \n",
       "min      0.000000                  0.078000   21.000000    0.000000  \n",
       "25%     27.300000                  0.243750   24.000000    0.000000  \n",
       "50%     32.000000                  0.372500   29.000000    0.000000  \n",
       "75%     36.600000                  0.626250   41.000000    1.000000  \n",
       "max     67.100000                  2.420000   81.000000    1.000000  "
      ]
     },
     "execution_count": 31,
     "metadata": {},
     "output_type": "execute_result"
    }
   ],
   "source": [
    "data.describe()"
   ]
  },
  {
   "cell_type": "code",
   "execution_count": 32,
   "id": "6b417dda",
   "metadata": {},
   "outputs": [
    {
     "data": {
      "text/plain": [
       "0    500\n",
       "1    268\n",
       "Name: Outcome, dtype: int64"
      ]
     },
     "execution_count": 32,
     "metadata": {},
     "output_type": "execute_result"
    }
   ],
   "source": [
    "data['Outcome'].value_counts()"
   ]
  },
  {
   "cell_type": "code",
   "execution_count": 33,
   "id": "7365ad87",
   "metadata": {},
   "outputs": [],
   "source": [
    "x = data.drop('Outcome', axis=1)\n",
    "y = data['Outcome']"
   ]
  },
  {
   "cell_type": "code",
   "execution_count": 34,
   "id": "989b8435",
   "metadata": {},
   "outputs": [],
   "source": [
    "# Normalising data\n",
    "x = (x - x.mean()) / x.std()"
   ]
  },
  {
   "cell_type": "code",
   "execution_count": 35,
   "id": "a29fb973",
   "metadata": {},
   "outputs": [],
   "source": [
    "from sklearn.model_selection import train_test_split\n",
    "from sklearn.pipeline import Pipeline\n",
    "from imblearn.over_sampling import SMOTE\n",
    "from feature_engine.selection import DropConstantFeatures, DropDuplicateFeatures, SmartCorrelatedSelection\n",
    "from evalml.preprocessing import split_data\n",
    "from evalml.automl import AutoMLSearch\n",
    "\n",
    "from sklearn.svm import SVC\n",
    "from sklearn.ensemble import RandomForestClassifier\n",
    "\n",
    "from sklearn.metrics import accuracy_score, confusion_matrix, classification_report\n",
    "\n",
    "import warnings\n",
    "warnings.simplefilter('ignore')"
   ]
  },
  {
   "cell_type": "code",
   "execution_count": 36,
   "id": "309bb79f",
   "metadata": {},
   "outputs": [
    {
     "data": {
      "text/plain": [
       "(576, 8)"
      ]
     },
     "execution_count": 36,
     "metadata": {},
     "output_type": "execute_result"
    }
   ],
   "source": [
    "xtrain, xtest, ytrain, ytest = train_test_split(x, y)\n",
    "xtrain.shape"
   ]
  },
  {
   "cell_type": "markdown",
   "id": "aedb5f3c",
   "metadata": {},
   "source": [
    "# Pipelining for feature selection "
   ]
  },
  {
   "cell_type": "code",
   "execution_count": 37,
   "id": "dff69e3c",
   "metadata": {},
   "outputs": [
    {
     "data": {
      "text/plain": [
       "(576, 8)"
      ]
     },
     "execution_count": 37,
     "metadata": {},
     "output_type": "execute_result"
    }
   ],
   "source": [
    "pip = Pipeline([('constant', DropConstantFeatures(tol=0.9)), ('duplicate', DropDuplicateFeatures()), ('correlated', SmartCorrelatedSelection(threshold=0.9, estimator=SVC))])\n",
    "new_xtrain = pip.fit_transform(xtrain)\n",
    "new_xtrain.shape \n",
    "# No features Dropped"
   ]
  },
  {
   "cell_type": "code",
   "execution_count": 38,
   "id": "d8ffba4e",
   "metadata": {},
   "outputs": [
    {
     "data": {
      "text/plain": [
       "(1    372\n",
       " 0    372\n",
       " Name: Outcome, dtype: int64,\n",
       " 0    128\n",
       " 1     64\n",
       " Name: Outcome, dtype: int64)"
      ]
     },
     "execution_count": 38,
     "metadata": {},
     "output_type": "execute_result"
    }
   ],
   "source": [
    "sm=SMOTE()\n",
    "xtrain_new, ytrain_new = sm.fit_resample(xtrain, ytrain)\n",
    "ytrain_new.value_counts(), ytest.value_counts()"
   ]
  },
  {
   "cell_type": "markdown",
   "id": "09222be7",
   "metadata": {},
   "source": [
    "# Running Models"
   ]
  },
  {
   "cell_type": "markdown",
   "id": "03a4fabc",
   "metadata": {},
   "source": [
    "# 1) SVC "
   ]
  },
  {
   "cell_type": "code",
   "execution_count": 39,
   "id": "c9849cb4",
   "metadata": {},
   "outputs": [
    {
     "data": {
      "text/html": [
       "<style>#sk-container-id-7 {color: black;background-color: white;}#sk-container-id-7 pre{padding: 0;}#sk-container-id-7 div.sk-toggleable {background-color: white;}#sk-container-id-7 label.sk-toggleable__label {cursor: pointer;display: block;width: 100%;margin-bottom: 0;padding: 0.3em;box-sizing: border-box;text-align: center;}#sk-container-id-7 label.sk-toggleable__label-arrow:before {content: \"▸\";float: left;margin-right: 0.25em;color: #696969;}#sk-container-id-7 label.sk-toggleable__label-arrow:hover:before {color: black;}#sk-container-id-7 div.sk-estimator:hover label.sk-toggleable__label-arrow:before {color: black;}#sk-container-id-7 div.sk-toggleable__content {max-height: 0;max-width: 0;overflow: hidden;text-align: left;background-color: #f0f8ff;}#sk-container-id-7 div.sk-toggleable__content pre {margin: 0.2em;color: black;border-radius: 0.25em;background-color: #f0f8ff;}#sk-container-id-7 input.sk-toggleable__control:checked~div.sk-toggleable__content {max-height: 200px;max-width: 100%;overflow: auto;}#sk-container-id-7 input.sk-toggleable__control:checked~label.sk-toggleable__label-arrow:before {content: \"▾\";}#sk-container-id-7 div.sk-estimator input.sk-toggleable__control:checked~label.sk-toggleable__label {background-color: #d4ebff;}#sk-container-id-7 div.sk-label input.sk-toggleable__control:checked~label.sk-toggleable__label {background-color: #d4ebff;}#sk-container-id-7 input.sk-hidden--visually {border: 0;clip: rect(1px 1px 1px 1px);clip: rect(1px, 1px, 1px, 1px);height: 1px;margin: -1px;overflow: hidden;padding: 0;position: absolute;width: 1px;}#sk-container-id-7 div.sk-estimator {font-family: monospace;background-color: #f0f8ff;border: 1px dotted black;border-radius: 0.25em;box-sizing: border-box;margin-bottom: 0.5em;}#sk-container-id-7 div.sk-estimator:hover {background-color: #d4ebff;}#sk-container-id-7 div.sk-parallel-item::after {content: \"\";width: 100%;border-bottom: 1px solid gray;flex-grow: 1;}#sk-container-id-7 div.sk-label:hover label.sk-toggleable__label {background-color: #d4ebff;}#sk-container-id-7 div.sk-serial::before {content: \"\";position: absolute;border-left: 1px solid gray;box-sizing: border-box;top: 0;bottom: 0;left: 50%;z-index: 0;}#sk-container-id-7 div.sk-serial {display: flex;flex-direction: column;align-items: center;background-color: white;padding-right: 0.2em;padding-left: 0.2em;position: relative;}#sk-container-id-7 div.sk-item {position: relative;z-index: 1;}#sk-container-id-7 div.sk-parallel {display: flex;align-items: stretch;justify-content: center;background-color: white;position: relative;}#sk-container-id-7 div.sk-item::before, #sk-container-id-7 div.sk-parallel-item::before {content: \"\";position: absolute;border-left: 1px solid gray;box-sizing: border-box;top: 0;bottom: 0;left: 50%;z-index: -1;}#sk-container-id-7 div.sk-parallel-item {display: flex;flex-direction: column;z-index: 1;position: relative;background-color: white;}#sk-container-id-7 div.sk-parallel-item:first-child::after {align-self: flex-end;width: 50%;}#sk-container-id-7 div.sk-parallel-item:last-child::after {align-self: flex-start;width: 50%;}#sk-container-id-7 div.sk-parallel-item:only-child::after {width: 0;}#sk-container-id-7 div.sk-dashed-wrapped {border: 1px dashed gray;margin: 0 0.4em 0.5em 0.4em;box-sizing: border-box;padding-bottom: 0.4em;background-color: white;}#sk-container-id-7 div.sk-label label {font-family: monospace;font-weight: bold;display: inline-block;line-height: 1.2em;}#sk-container-id-7 div.sk-label-container {text-align: center;}#sk-container-id-7 div.sk-container {/* jupyter's `normalize.less` sets `[hidden] { display: none; }` but bootstrap.min.css set `[hidden] { display: none !important; }` so we also need the `!important` here to be able to override the default hidden behavior on the sphinx rendered scikit-learn.org. See: https://github.com/scikit-learn/scikit-learn/issues/21755 */display: inline-block !important;position: relative;}#sk-container-id-7 div.sk-text-repr-fallback {display: none;}</style><div id=\"sk-container-id-7\" class=\"sk-top-container\"><div class=\"sk-text-repr-fallback\"><pre>SVC()</pre><b>In a Jupyter environment, please rerun this cell to show the HTML representation or trust the notebook. <br />On GitHub, the HTML representation is unable to render, please try loading this page with nbviewer.org.</b></div><div class=\"sk-container\" hidden><div class=\"sk-item\"><div class=\"sk-estimator sk-toggleable\"><input class=\"sk-toggleable__control sk-hidden--visually\" id=\"sk-estimator-id-7\" type=\"checkbox\" checked><label for=\"sk-estimator-id-7\" class=\"sk-toggleable__label sk-toggleable__label-arrow\">SVC</label><div class=\"sk-toggleable__content\"><pre>SVC()</pre></div></div></div></div></div>"
      ],
      "text/plain": [
       "SVC()"
      ]
     },
     "execution_count": 39,
     "metadata": {},
     "output_type": "execute_result"
    }
   ],
   "source": [
    "model1 = SVC()\n",
    "model1.fit(xtrain_new, ytrain_new)"
   ]
  },
  {
   "cell_type": "code",
   "execution_count": 40,
   "id": "c4567baf",
   "metadata": {},
   "outputs": [
    {
     "name": "stdout",
     "output_type": "stream",
     "text": [
      "0.7760416666666666\n"
     ]
    }
   ],
   "source": [
    "pred1 = model1.predict(xtest)\n",
    "print(accuracy_score(ytest, pred1))"
   ]
  },
  {
   "cell_type": "markdown",
   "id": "dc06379c",
   "metadata": {},
   "source": [
    "# 2) Random Forest Classifier "
   ]
  },
  {
   "cell_type": "code",
   "execution_count": 41,
   "id": "9f0dbbbf",
   "metadata": {},
   "outputs": [
    {
     "data": {
      "text/html": [
       "<style>#sk-container-id-8 {color: black;background-color: white;}#sk-container-id-8 pre{padding: 0;}#sk-container-id-8 div.sk-toggleable {background-color: white;}#sk-container-id-8 label.sk-toggleable__label {cursor: pointer;display: block;width: 100%;margin-bottom: 0;padding: 0.3em;box-sizing: border-box;text-align: center;}#sk-container-id-8 label.sk-toggleable__label-arrow:before {content: \"▸\";float: left;margin-right: 0.25em;color: #696969;}#sk-container-id-8 label.sk-toggleable__label-arrow:hover:before {color: black;}#sk-container-id-8 div.sk-estimator:hover label.sk-toggleable__label-arrow:before {color: black;}#sk-container-id-8 div.sk-toggleable__content {max-height: 0;max-width: 0;overflow: hidden;text-align: left;background-color: #f0f8ff;}#sk-container-id-8 div.sk-toggleable__content pre {margin: 0.2em;color: black;border-radius: 0.25em;background-color: #f0f8ff;}#sk-container-id-8 input.sk-toggleable__control:checked~div.sk-toggleable__content {max-height: 200px;max-width: 100%;overflow: auto;}#sk-container-id-8 input.sk-toggleable__control:checked~label.sk-toggleable__label-arrow:before {content: \"▾\";}#sk-container-id-8 div.sk-estimator input.sk-toggleable__control:checked~label.sk-toggleable__label {background-color: #d4ebff;}#sk-container-id-8 div.sk-label input.sk-toggleable__control:checked~label.sk-toggleable__label {background-color: #d4ebff;}#sk-container-id-8 input.sk-hidden--visually {border: 0;clip: rect(1px 1px 1px 1px);clip: rect(1px, 1px, 1px, 1px);height: 1px;margin: -1px;overflow: hidden;padding: 0;position: absolute;width: 1px;}#sk-container-id-8 div.sk-estimator {font-family: monospace;background-color: #f0f8ff;border: 1px dotted black;border-radius: 0.25em;box-sizing: border-box;margin-bottom: 0.5em;}#sk-container-id-8 div.sk-estimator:hover {background-color: #d4ebff;}#sk-container-id-8 div.sk-parallel-item::after {content: \"\";width: 100%;border-bottom: 1px solid gray;flex-grow: 1;}#sk-container-id-8 div.sk-label:hover label.sk-toggleable__label {background-color: #d4ebff;}#sk-container-id-8 div.sk-serial::before {content: \"\";position: absolute;border-left: 1px solid gray;box-sizing: border-box;top: 0;bottom: 0;left: 50%;z-index: 0;}#sk-container-id-8 div.sk-serial {display: flex;flex-direction: column;align-items: center;background-color: white;padding-right: 0.2em;padding-left: 0.2em;position: relative;}#sk-container-id-8 div.sk-item {position: relative;z-index: 1;}#sk-container-id-8 div.sk-parallel {display: flex;align-items: stretch;justify-content: center;background-color: white;position: relative;}#sk-container-id-8 div.sk-item::before, #sk-container-id-8 div.sk-parallel-item::before {content: \"\";position: absolute;border-left: 1px solid gray;box-sizing: border-box;top: 0;bottom: 0;left: 50%;z-index: -1;}#sk-container-id-8 div.sk-parallel-item {display: flex;flex-direction: column;z-index: 1;position: relative;background-color: white;}#sk-container-id-8 div.sk-parallel-item:first-child::after {align-self: flex-end;width: 50%;}#sk-container-id-8 div.sk-parallel-item:last-child::after {align-self: flex-start;width: 50%;}#sk-container-id-8 div.sk-parallel-item:only-child::after {width: 0;}#sk-container-id-8 div.sk-dashed-wrapped {border: 1px dashed gray;margin: 0 0.4em 0.5em 0.4em;box-sizing: border-box;padding-bottom: 0.4em;background-color: white;}#sk-container-id-8 div.sk-label label {font-family: monospace;font-weight: bold;display: inline-block;line-height: 1.2em;}#sk-container-id-8 div.sk-label-container {text-align: center;}#sk-container-id-8 div.sk-container {/* jupyter's `normalize.less` sets `[hidden] { display: none; }` but bootstrap.min.css set `[hidden] { display: none !important; }` so we also need the `!important` here to be able to override the default hidden behavior on the sphinx rendered scikit-learn.org. See: https://github.com/scikit-learn/scikit-learn/issues/21755 */display: inline-block !important;position: relative;}#sk-container-id-8 div.sk-text-repr-fallback {display: none;}</style><div id=\"sk-container-id-8\" class=\"sk-top-container\"><div class=\"sk-text-repr-fallback\"><pre>RandomForestClassifier()</pre><b>In a Jupyter environment, please rerun this cell to show the HTML representation or trust the notebook. <br />On GitHub, the HTML representation is unable to render, please try loading this page with nbviewer.org.</b></div><div class=\"sk-container\" hidden><div class=\"sk-item\"><div class=\"sk-estimator sk-toggleable\"><input class=\"sk-toggleable__control sk-hidden--visually\" id=\"sk-estimator-id-8\" type=\"checkbox\" checked><label for=\"sk-estimator-id-8\" class=\"sk-toggleable__label sk-toggleable__label-arrow\">RandomForestClassifier</label><div class=\"sk-toggleable__content\"><pre>RandomForestClassifier()</pre></div></div></div></div></div>"
      ],
      "text/plain": [
       "RandomForestClassifier()"
      ]
     },
     "execution_count": 41,
     "metadata": {},
     "output_type": "execute_result"
    }
   ],
   "source": [
    "model2 =  RandomForestClassifier()\n",
    "model2.fit(xtrain_new, ytrain_new)"
   ]
  },
  {
   "cell_type": "code",
   "execution_count": 42,
   "id": "f698faf1",
   "metadata": {},
   "outputs": [
    {
     "name": "stdout",
     "output_type": "stream",
     "text": [
      "0.796875\n"
     ]
    }
   ],
   "source": [
    "pred2 = model2.predict(xtest)\n",
    "print(accuracy_score(ytest, pred2))"
   ]
  },
  {
   "cell_type": "markdown",
   "id": "c99bf0de",
   "metadata": {},
   "source": [
    "# AutoML  Data Splitting"
   ]
  },
  {
   "cell_type": "code",
   "execution_count": 43,
   "id": "bfe333b6",
   "metadata": {},
   "outputs": [
    {
     "data": {
      "text/plain": [
       "(0    400\n",
       " 1    214\n",
       " Name: Outcome, dtype: int64,\n",
       " (614, 8))"
      ]
     },
     "execution_count": 43,
     "metadata": {},
     "output_type": "execute_result"
    }
   ],
   "source": [
    "xtrain, xtest, ytrain, ytest = split_data(x, y, problem_type='binary')\n",
    "ytrain.value_counts(), xtrain.shape"
   ]
  },
  {
   "cell_type": "code",
   "execution_count": 44,
   "id": "eb58c1aa",
   "metadata": {},
   "outputs": [
    {
     "data": {
      "text/plain": [
       "(1    400\n",
       " 0    400\n",
       " Name: Outcome, dtype: int64,\n",
       " 0    100\n",
       " 1     54\n",
       " Name: Outcome, dtype: int64)"
      ]
     },
     "execution_count": 44,
     "metadata": {},
     "output_type": "execute_result"
    }
   ],
   "source": [
    "# SMOTE\n",
    "sm=SMOTE()\n",
    "xtrain_new, ytrain_new = sm.fit_resample(xtrain, ytrain)\n",
    "ytrain_new.value_counts(), ytest.value_counts()"
   ]
  },
  {
   "cell_type": "markdown",
   "id": "eb6fc4dc",
   "metadata": {},
   "source": [
    "# AutoML Search "
   ]
  },
  {
   "cell_type": "code",
   "execution_count": 45,
   "id": "8eeb2b0d",
   "metadata": {},
   "outputs": [
    {
     "name": "stderr",
     "output_type": "stream",
     "text": [
      "\tHigh coefficient of variation (cv >= 0.5) within cross validation scores.\n",
      "\tDecision Tree Classifier w/ Label Encoder + Replace Nullable Types Transformer + Imputer + Select Columns Transformer may not perform as estimated on unseen data.\n"
     ]
    },
    {
     "name": "stdout",
     "output_type": "stream",
     "text": [
      "Random Forest Classifier w/ Label Encoder + Replace Nullable Types Transformer + Imputer\n"
     ]
    }
   ],
   "source": [
    "auto = AutoMLSearch(xtrain_new, ytrain_new, problem_type='binary')\n",
    "auto.search()\n",
    "print(auto.best_pipeline)"
   ]
  },
  {
   "cell_type": "code",
   "execution_count": 46,
   "id": "2a447887",
   "metadata": {},
   "outputs": [
    {
     "data": {
      "text/html": [
       "<div>\n",
       "<style scoped>\n",
       "    .dataframe tbody tr th:only-of-type {\n",
       "        vertical-align: middle;\n",
       "    }\n",
       "\n",
       "    .dataframe tbody tr th {\n",
       "        vertical-align: top;\n",
       "    }\n",
       "\n",
       "    .dataframe thead th {\n",
       "        text-align: right;\n",
       "    }\n",
       "</style>\n",
       "<table border=\"1\" class=\"dataframe\">\n",
       "  <thead>\n",
       "    <tr style=\"text-align: right;\">\n",
       "      <th></th>\n",
       "      <th>id</th>\n",
       "      <th>pipeline_name</th>\n",
       "      <th>search_order</th>\n",
       "      <th>validation_score</th>\n",
       "      <th>mean_cv_score</th>\n",
       "      <th>standard_deviation_cv_score</th>\n",
       "      <th>percent_better_than_baseline</th>\n",
       "      <th>high_variance_cv</th>\n",
       "      <th>parameters</th>\n",
       "    </tr>\n",
       "  </thead>\n",
       "  <tbody>\n",
       "    <tr>\n",
       "      <th>0</th>\n",
       "      <td>2</td>\n",
       "      <td>Random Forest Classifier w/ Label Encoder + Re...</td>\n",
       "      <td>2</td>\n",
       "      <td>0.481610</td>\n",
       "      <td>0.481610</td>\n",
       "      <td>0.023877</td>\n",
       "      <td>97.211214</td>\n",
       "      <td>False</td>\n",
       "      <td>{'Label Encoder': {'positive_label': None}, 'I...</td>\n",
       "    </tr>\n",
       "    <tr>\n",
       "      <th>1</th>\n",
       "      <td>4</td>\n",
       "      <td>Random Forest Classifier w/ Label Encoder + Re...</td>\n",
       "      <td>4</td>\n",
       "      <td>0.484419</td>\n",
       "      <td>0.484419</td>\n",
       "      <td>0.037741</td>\n",
       "      <td>97.194948</td>\n",
       "      <td>False</td>\n",
       "      <td>{'Label Encoder': {'positive_label': None}, 'I...</td>\n",
       "    </tr>\n",
       "    <tr>\n",
       "      <th>2</th>\n",
       "      <td>7</td>\n",
       "      <td>Extra Trees Classifier w/ Label Encoder + Repl...</td>\n",
       "      <td>7</td>\n",
       "      <td>0.518344</td>\n",
       "      <td>0.518344</td>\n",
       "      <td>0.020190</td>\n",
       "      <td>96.998503</td>\n",
       "      <td>False</td>\n",
       "      <td>{'Label Encoder': {'positive_label': None}, 'I...</td>\n",
       "    </tr>\n",
       "    <tr>\n",
       "      <th>3</th>\n",
       "      <td>1</td>\n",
       "      <td>Logistic Regression Classifier w/ Label Encode...</td>\n",
       "      <td>1</td>\n",
       "      <td>0.542427</td>\n",
       "      <td>0.542427</td>\n",
       "      <td>0.036203</td>\n",
       "      <td>96.859053</td>\n",
       "      <td>False</td>\n",
       "      <td>{'Label Encoder': {'positive_label': None}, 'I...</td>\n",
       "    </tr>\n",
       "    <tr>\n",
       "      <th>4</th>\n",
       "      <td>10</td>\n",
       "      <td>XGBoost Classifier w/ Label Encoder + Replace ...</td>\n",
       "      <td>10</td>\n",
       "      <td>0.546879</td>\n",
       "      <td>0.546879</td>\n",
       "      <td>0.073982</td>\n",
       "      <td>96.833273</td>\n",
       "      <td>False</td>\n",
       "      <td>{'Label Encoder': {'positive_label': None}, 'I...</td>\n",
       "    </tr>\n",
       "    <tr>\n",
       "      <th>5</th>\n",
       "      <td>3</td>\n",
       "      <td>Logistic Regression Classifier w/ Label Encode...</td>\n",
       "      <td>3</td>\n",
       "      <td>0.547896</td>\n",
       "      <td>0.547896</td>\n",
       "      <td>0.037696</td>\n",
       "      <td>96.827383</td>\n",
       "      <td>False</td>\n",
       "      <td>{'Label Encoder': {'positive_label': None}, 'I...</td>\n",
       "    </tr>\n",
       "    <tr>\n",
       "      <th>6</th>\n",
       "      <td>8</td>\n",
       "      <td>Elastic Net Classifier w/ Label Encoder + Repl...</td>\n",
       "      <td>8</td>\n",
       "      <td>0.550711</td>\n",
       "      <td>0.550711</td>\n",
       "      <td>0.033978</td>\n",
       "      <td>96.811083</td>\n",
       "      <td>False</td>\n",
       "      <td>{'Label Encoder': {'positive_label': None}, 'I...</td>\n",
       "    </tr>\n",
       "    <tr>\n",
       "      <th>7</th>\n",
       "      <td>6</td>\n",
       "      <td>LightGBM Classifier w/ Label Encoder + Replace...</td>\n",
       "      <td>6</td>\n",
       "      <td>0.576898</td>\n",
       "      <td>0.576898</td>\n",
       "      <td>0.097340</td>\n",
       "      <td>96.659446</td>\n",
       "      <td>False</td>\n",
       "      <td>{'Label Encoder': {'positive_label': None}, 'I...</td>\n",
       "    </tr>\n",
       "    <tr>\n",
       "      <th>8</th>\n",
       "      <td>9</td>\n",
       "      <td>CatBoost Classifier w/ Label Encoder + Replace...</td>\n",
       "      <td>9</td>\n",
       "      <td>0.644724</td>\n",
       "      <td>0.644724</td>\n",
       "      <td>0.004459</td>\n",
       "      <td>96.266696</td>\n",
       "      <td>False</td>\n",
       "      <td>{'Label Encoder': {'positive_label': None}, 'I...</td>\n",
       "    </tr>\n",
       "    <tr>\n",
       "      <th>9</th>\n",
       "      <td>5</td>\n",
       "      <td>Decision Tree Classifier w/ Label Encoder + Re...</td>\n",
       "      <td>5</td>\n",
       "      <td>3.155919</td>\n",
       "      <td>3.155919</td>\n",
       "      <td>0.304888</td>\n",
       "      <td>81.725498</td>\n",
       "      <td>True</td>\n",
       "      <td>{'Label Encoder': {'positive_label': None}, 'I...</td>\n",
       "    </tr>\n",
       "    <tr>\n",
       "      <th>10</th>\n",
       "      <td>0</td>\n",
       "      <td>Mode Baseline Binary Classification Pipeline</td>\n",
       "      <td>0</td>\n",
       "      <td>17.269521</td>\n",
       "      <td>17.269521</td>\n",
       "      <td>0.064680</td>\n",
       "      <td>0.000000</td>\n",
       "      <td>False</td>\n",
       "      <td>{'Label Encoder': {'positive_label': None}, 'B...</td>\n",
       "    </tr>\n",
       "  </tbody>\n",
       "</table>\n",
       "</div>"
      ],
      "text/plain": [
       "    id                                      pipeline_name  search_order  \\\n",
       "0    2  Random Forest Classifier w/ Label Encoder + Re...             2   \n",
       "1    4  Random Forest Classifier w/ Label Encoder + Re...             4   \n",
       "2    7  Extra Trees Classifier w/ Label Encoder + Repl...             7   \n",
       "3    1  Logistic Regression Classifier w/ Label Encode...             1   \n",
       "4   10  XGBoost Classifier w/ Label Encoder + Replace ...            10   \n",
       "5    3  Logistic Regression Classifier w/ Label Encode...             3   \n",
       "6    8  Elastic Net Classifier w/ Label Encoder + Repl...             8   \n",
       "7    6  LightGBM Classifier w/ Label Encoder + Replace...             6   \n",
       "8    9  CatBoost Classifier w/ Label Encoder + Replace...             9   \n",
       "9    5  Decision Tree Classifier w/ Label Encoder + Re...             5   \n",
       "10   0       Mode Baseline Binary Classification Pipeline             0   \n",
       "\n",
       "    validation_score  mean_cv_score  standard_deviation_cv_score  \\\n",
       "0           0.481610       0.481610                     0.023877   \n",
       "1           0.484419       0.484419                     0.037741   \n",
       "2           0.518344       0.518344                     0.020190   \n",
       "3           0.542427       0.542427                     0.036203   \n",
       "4           0.546879       0.546879                     0.073982   \n",
       "5           0.547896       0.547896                     0.037696   \n",
       "6           0.550711       0.550711                     0.033978   \n",
       "7           0.576898       0.576898                     0.097340   \n",
       "8           0.644724       0.644724                     0.004459   \n",
       "9           3.155919       3.155919                     0.304888   \n",
       "10         17.269521      17.269521                     0.064680   \n",
       "\n",
       "    percent_better_than_baseline  high_variance_cv  \\\n",
       "0                      97.211214             False   \n",
       "1                      97.194948             False   \n",
       "2                      96.998503             False   \n",
       "3                      96.859053             False   \n",
       "4                      96.833273             False   \n",
       "5                      96.827383             False   \n",
       "6                      96.811083             False   \n",
       "7                      96.659446             False   \n",
       "8                      96.266696             False   \n",
       "9                      81.725498              True   \n",
       "10                      0.000000             False   \n",
       "\n",
       "                                           parameters  \n",
       "0   {'Label Encoder': {'positive_label': None}, 'I...  \n",
       "1   {'Label Encoder': {'positive_label': None}, 'I...  \n",
       "2   {'Label Encoder': {'positive_label': None}, 'I...  \n",
       "3   {'Label Encoder': {'positive_label': None}, 'I...  \n",
       "4   {'Label Encoder': {'positive_label': None}, 'I...  \n",
       "5   {'Label Encoder': {'positive_label': None}, 'I...  \n",
       "6   {'Label Encoder': {'positive_label': None}, 'I...  \n",
       "7   {'Label Encoder': {'positive_label': None}, 'I...  \n",
       "8   {'Label Encoder': {'positive_label': None}, 'I...  \n",
       "9   {'Label Encoder': {'positive_label': None}, 'I...  \n",
       "10  {'Label Encoder': {'positive_label': None}, 'B...  "
      ]
     },
     "execution_count": 46,
     "metadata": {},
     "output_type": "execute_result"
    }
   ],
   "source": [
    "auto.rankings"
   ]
  },
  {
   "cell_type": "code",
   "execution_count": 47,
   "id": "cedc8ef4",
   "metadata": {},
   "outputs": [
    {
     "name": "stdout",
     "output_type": "stream",
     "text": [
      "\n",
      "********************************************************************************************\n",
      "* Random Forest Classifier w/ Label Encoder + Replace Nullable Types Transformer + Imputer *\n",
      "********************************************************************************************\n",
      "\n",
      "Problem Type: binary\n",
      "Model Family: Random Forest\n",
      "\n",
      "Pipeline Steps\n",
      "==============\n",
      "1. Label Encoder\n",
      "\t * positive_label : None\n",
      "2. Replace Nullable Types Transformer\n",
      "3. Imputer\n",
      "\t * categorical_impute_strategy : most_frequent\n",
      "\t * numeric_impute_strategy : mean\n",
      "\t * boolean_impute_strategy : most_frequent\n",
      "\t * categorical_fill_value : None\n",
      "\t * numeric_fill_value : None\n",
      "\t * boolean_fill_value : None\n",
      "4. Random Forest Classifier\n",
      "\t * n_estimators : 100\n",
      "\t * max_depth : 6\n",
      "\t * n_jobs : -1\n",
      "\n",
      "Training\n",
      "========\n",
      "Training for binary problems.\n",
      "Total training time (including CV): 1.2 seconds\n",
      "\n",
      "Cross Validation\n",
      "----------------\n",
      "             Log Loss Binary  MCC Binary  Gini   AUC  Precision    F1  Balanced Accuracy Binary  Accuracy Binary # Training # Validation\n",
      "0                      0.456       0.611 0.759 0.879      0.796 0.807                     0.805            0.805        533          267\n",
      "1                      0.487       0.435 0.688 0.844      0.652 0.749                     0.703            0.704        533          267\n",
      "2                      0.502       0.554 0.673 0.837      0.817 0.758                     0.774            0.774        534          266\n",
      "mean                   0.482       0.533 0.707 0.853      0.755 0.772                     0.761            0.761          -            -\n",
      "std                    0.024       0.089 0.046 0.023      0.090 0.031                     0.052            0.052          -            -\n",
      "coef of var            0.050       0.168 0.065 0.027      0.119 0.041                     0.069            0.068          -            -\n"
     ]
    }
   ],
   "source": [
    "auto.describe_pipeline(auto.rankings.iloc[0][\"id\"])"
   ]
  },
  {
   "cell_type": "code",
   "execution_count": 48,
   "id": "bb71de67",
   "metadata": {},
   "outputs": [
    {
     "data": {
      "text/plain": [
       "OrderedDict([('AUC', 0.8579629629629629),\n",
       "             ('Precision', 0.6716417910447762),\n",
       "             ('Recall', 0.8333333333333334),\n",
       "             ('F1', 0.7438016528925621)])"
      ]
     },
     "execution_count": 48,
     "metadata": {},
     "output_type": "execute_result"
    }
   ],
   "source": [
    "best = auto.best_pipeline\n",
    "best.score(xtest, ytest, objectives=['auc', 'precision', 'recall', 'f1'])"
   ]
  },
  {
   "cell_type": "code",
   "execution_count": 55,
   "id": "5eae05da",
   "metadata": {},
   "outputs": [
    {
     "data": {
      "image/svg+xml": [
       "<?xml version=\"1.0\" encoding=\"UTF-8\" standalone=\"no\"?>\n",
       "<!DOCTYPE svg PUBLIC \"-//W3C//DTD SVG 1.1//EN\"\n",
       " \"http://www.w3.org/Graphics/SVG/1.1/DTD/svg11.dtd\">\n",
       "<!-- Generated by graphviz version 2.50.0 (0)\n",
       " -->\n",
       "<!-- Pages: 1 -->\n",
       "<svg width=\"954pt\" height=\"154pt\"\n",
       " viewBox=\"0.00 0.00 954.00 154.30\" xmlns=\"http://www.w3.org/2000/svg\" xmlns:xlink=\"http://www.w3.org/1999/xlink\">\n",
       "<g id=\"graph0\" class=\"graph\" transform=\"scale(1 1) rotate(0) translate(4 150.3)\">\n",
       "<polygon fill=\"white\" stroke=\"transparent\" points=\"-4,4 -4,-150.3 950,-150.3 950,4 -4,4\"/>\n",
       "<!-- Label Encoder -->\n",
       "<g id=\"node1\" class=\"node\">\n",
       "<title>Label Encoder</title>\n",
       "<polygon fill=\"none\" stroke=\"black\" points=\"72,-88.3 72,-134.3 205,-134.3 205,-88.3 72,-88.3\"/>\n",
       "<text text-anchor=\"middle\" x=\"138.5\" y=\"-119.1\" font-family=\"Times New Roman,serif\" font-size=\"14.00\">Label Encoder</text>\n",
       "<polyline fill=\"none\" stroke=\"black\" points=\"72,-111.3 205,-111.3 \"/>\n",
       "<text text-anchor=\"start\" x=\"80\" y=\"-96.1\" font-family=\"Times New Roman,serif\" font-size=\"14.00\">positive_label : None</text>\n",
       "</g>\n",
       "<!-- Replace Nullable Types Transformer -->\n",
       "<g id=\"node2\" class=\"node\">\n",
       "<title>Replace Nullable Types Transformer</title>\n",
       "<polygon fill=\"none\" stroke=\"black\" points=\"241,-61.8 241,-108.8 458,-108.8 458,-61.8 241,-61.8\"/>\n",
       "<text text-anchor=\"middle\" x=\"349.5\" y=\"-93.6\" font-family=\"Times New Roman,serif\" font-size=\"14.00\">Replace Nullable Types Transformer</text>\n",
       "<polyline fill=\"none\" stroke=\"black\" points=\"241,-85.8 458,-85.8 \"/>\n",
       "</g>\n",
       "<!-- Label Encoder&#45;&gt;Replace Nullable Types Transformer -->\n",
       "<g id=\"edge5\" class=\"edge\">\n",
       "<title>Label Encoder&#45;&gt;Replace Nullable Types Transformer</title>\n",
       "<path fill=\"none\" stroke=\"black\" stroke-dasharray=\"1,5\" d=\"M205.06,-103.14C213.32,-102.11 221.96,-101.04 230.73,-99.95\"/>\n",
       "<polygon fill=\"black\" stroke=\"black\" points=\"231.18,-103.42 240.67,-98.71 230.31,-96.47 231.18,-103.42\"/>\n",
       "</g>\n",
       "<!-- Imputer -->\n",
       "<g id=\"node3\" class=\"node\">\n",
       "<title>Imputer</title>\n",
       "<polygon fill=\"none\" stroke=\"black\" points=\"494,-24.8 494,-145.8 754,-145.8 754,-24.8 494,-24.8\"/>\n",
       "<text text-anchor=\"middle\" x=\"624\" y=\"-130.6\" font-family=\"Times New Roman,serif\" font-size=\"14.00\">Imputer</text>\n",
       "<polyline fill=\"none\" stroke=\"black\" points=\"494,-122.8 754,-122.8 \"/>\n",
       "<text text-anchor=\"start\" x=\"502\" y=\"-107.6\" font-family=\"Times New Roman,serif\" font-size=\"14.00\">categorical_impute_strategy : most_frequent</text>\n",
       "<text text-anchor=\"start\" x=\"502\" y=\"-92.6\" font-family=\"Times New Roman,serif\" font-size=\"14.00\">numeric_impute_strategy : mean</text>\n",
       "<text text-anchor=\"start\" x=\"502\" y=\"-77.6\" font-family=\"Times New Roman,serif\" font-size=\"14.00\">boolean_impute_strategy : most_frequent</text>\n",
       "<text text-anchor=\"start\" x=\"502\" y=\"-62.6\" font-family=\"Times New Roman,serif\" font-size=\"14.00\">categorical_fill_value : None</text>\n",
       "<text text-anchor=\"start\" x=\"502\" y=\"-47.6\" font-family=\"Times New Roman,serif\" font-size=\"14.00\">numeric_fill_value : None</text>\n",
       "<text text-anchor=\"start\" x=\"502\" y=\"-32.6\" font-family=\"Times New Roman,serif\" font-size=\"14.00\">boolean_fill_value : None</text>\n",
       "</g>\n",
       "<!-- Replace Nullable Types Transformer&#45;&gt;Imputer -->\n",
       "<g id=\"edge1\" class=\"edge\">\n",
       "<title>Replace Nullable Types Transformer&#45;&gt;Imputer</title>\n",
       "<path fill=\"none\" stroke=\"black\" d=\"M458.2,-78.68C466.65,-78.6 475.25,-78.56 483.86,-78.55\"/>\n",
       "<polygon fill=\"black\" stroke=\"black\" points=\"483.97,-82.05 493.98,-78.56 483.98,-75.05 483.97,-82.05\"/>\n",
       "</g>\n",
       "<!-- Replace Nullable Types Transformer&#45;&gt;Imputer -->\n",
       "<g id=\"edge6\" class=\"edge\">\n",
       "<title>Replace Nullable Types Transformer&#45;&gt;Imputer</title>\n",
       "<path fill=\"none\" stroke=\"black\" stroke-dasharray=\"1,5\" d=\"M458.2,-91.91C466.65,-91.99 475.25,-92.04 483.86,-92.05\"/>\n",
       "<polygon fill=\"black\" stroke=\"black\" points=\"483.98,-95.55 493.98,-92.04 483.97,-88.55 483.98,-95.55\"/>\n",
       "</g>\n",
       "<!-- Random Forest Classifier -->\n",
       "<g id=\"node4\" class=\"node\">\n",
       "<title>Random Forest Classifier</title>\n",
       "<polygon fill=\"none\" stroke=\"black\" points=\"790,-2.3 790,-78.3 946,-78.3 946,-2.3 790,-2.3\"/>\n",
       "<text text-anchor=\"middle\" x=\"868\" y=\"-63.1\" font-family=\"Times New Roman,serif\" font-size=\"14.00\">Random Forest Classifier</text>\n",
       "<polyline fill=\"none\" stroke=\"black\" points=\"790,-55.3 946,-55.3 \"/>\n",
       "<text text-anchor=\"start\" x=\"798\" y=\"-40.1\" font-family=\"Times New Roman,serif\" font-size=\"14.00\">n_estimators : 100</text>\n",
       "<text text-anchor=\"start\" x=\"798\" y=\"-25.1\" font-family=\"Times New Roman,serif\" font-size=\"14.00\">max_depth : 6</text>\n",
       "<text text-anchor=\"start\" x=\"798\" y=\"-10.1\" font-family=\"Times New Roman,serif\" font-size=\"14.00\">n_jobs : &#45;1</text>\n",
       "</g>\n",
       "<!-- Replace Nullable Types Transformer&#45;&gt;Random Forest Classifier -->\n",
       "<g id=\"edge7\" class=\"edge\">\n",
       "<title>Replace Nullable Types Transformer&#45;&gt;Random Forest Classifier</title>\n",
       "<path fill=\"none\" stroke=\"black\" stroke-dasharray=\"1,5\" d=\"M387.12,-61.63C415.13,-45.01 455.38,-24.22 494,-15.3 606.59,10.7 639.13,-2.74 754,-15.3 762.49,-16.23 771.27,-17.53 780.02,-19.07\"/>\n",
       "<polygon fill=\"black\" stroke=\"black\" points=\"779.4,-22.52 789.87,-20.9 780.67,-15.63 779.4,-22.52\"/>\n",
       "</g>\n",
       "<!-- Imputer&#45;&gt;Random Forest Classifier -->\n",
       "<g id=\"edge2\" class=\"edge\">\n",
       "<title>Imputer&#45;&gt;Random Forest Classifier</title>\n",
       "<path fill=\"none\" stroke=\"black\" d=\"M754.15,-61.28C762.8,-59.67 771.39,-58.08 779.75,-56.52\"/>\n",
       "<polygon fill=\"black\" stroke=\"black\" points=\"780.62,-59.92 789.81,-54.65 779.34,-53.04 780.62,-59.92\"/>\n",
       "</g>\n",
       "<!-- X -->\n",
       "<g id=\"node5\" class=\"node\">\n",
       "<title>X</title>\n",
       "<ellipse fill=\"none\" stroke=\"black\" cx=\"18\" cy=\"-59.3\" rx=\"18\" ry=\"18\"/>\n",
       "<text text-anchor=\"middle\" x=\"18\" y=\"-55.6\" font-family=\"Times New Roman,serif\" font-size=\"14.00\">X</text>\n",
       "</g>\n",
       "<!-- X&#45;&gt;Label Encoder -->\n",
       "<g id=\"edge3\" class=\"edge\">\n",
       "<title>X&#45;&gt;Label Encoder</title>\n",
       "<path fill=\"none\" stroke=\"black\" d=\"M34.98,-66.31C45.65,-70.99 60.44,-77.48 75.47,-84.08\"/>\n",
       "<polygon fill=\"black\" stroke=\"black\" points=\"74.27,-87.37 84.83,-88.18 77.08,-80.96 74.27,-87.37\"/>\n",
       "</g>\n",
       "<!-- X&#45;&gt;Replace Nullable Types Transformer -->\n",
       "<g id=\"edge4\" class=\"edge\">\n",
       "<title>X&#45;&gt;Replace Nullable Types Transformer</title>\n",
       "<path fill=\"none\" stroke=\"black\" d=\"M36.25,-60.66C72.23,-63.5 157.97,-70.26 230.51,-75.99\"/>\n",
       "<polygon fill=\"black\" stroke=\"black\" points=\"230.41,-79.49 240.65,-76.79 230.96,-72.51 230.41,-79.49\"/>\n",
       "</g>\n",
       "<!-- y -->\n",
       "<g id=\"node6\" class=\"node\">\n",
       "<title>y</title>\n",
       "<ellipse fill=\"none\" stroke=\"black\" cx=\"18\" cy=\"-113.3\" rx=\"18\" ry=\"18\"/>\n",
       "<text text-anchor=\"middle\" x=\"18\" y=\"-109.6\" font-family=\"Times New Roman,serif\" font-size=\"14.00\">y</text>\n",
       "</g>\n",
       "<!-- y&#45;&gt;Label Encoder -->\n",
       "<g id=\"edge8\" class=\"edge\">\n",
       "<title>y&#45;&gt;Label Encoder</title>\n",
       "<path fill=\"none\" stroke=\"black\" stroke-dasharray=\"1,5\" d=\"M36.23,-113.01C43.42,-112.89 52.32,-112.74 61.83,-112.57\"/>\n",
       "<polygon fill=\"black\" stroke=\"black\" points=\"61.98,-116.07 71.92,-112.4 61.86,-109.07 61.98,-116.07\"/>\n",
       "</g>\n",
       "</g>\n",
       "</svg>\n"
      ],
      "text/plain": [
       "<graphviz.graphs.Digraph at 0x1b03267d580>"
      ]
     },
     "execution_count": 55,
     "metadata": {},
     "output_type": "execute_result"
    }
   ],
   "source": [
    "best.graph()"
   ]
  },
  {
   "cell_type": "markdown",
   "id": "87471241",
   "metadata": {},
   "source": [
    "# Creating and Running the model  "
   ]
  },
  {
   "cell_type": "code",
   "execution_count": 50,
   "id": "f92b42b9",
   "metadata": {},
   "outputs": [
    {
     "data": {
      "text/plain": [
       "pipeline = BinaryClassificationPipeline(component_graph={'Label Encoder': ['Label Encoder', 'X', 'y'], 'Replace Nullable Types Transformer': ['Replace Nullable Types Transformer', 'X', 'Label Encoder.y'], 'Imputer': ['Imputer', 'Replace Nullable Types Transformer.x', 'Replace Nullable Types Transformer.y'], 'Random Forest Classifier': ['Random Forest Classifier', 'Imputer.x', 'Replace Nullable Types Transformer.y']}, parameters={'Label Encoder':{'positive_label': None}, 'Imputer':{'categorical_impute_strategy': 'most_frequent', 'numeric_impute_strategy': 'mean', 'boolean_impute_strategy': 'most_frequent', 'categorical_fill_value': None, 'numeric_fill_value': None, 'boolean_fill_value': None}, 'Random Forest Classifier':{'n_estimators': 100, 'max_depth': 6, 'n_jobs': -1}}, random_seed=0)"
      ]
     },
     "execution_count": 50,
     "metadata": {},
     "output_type": "execute_result"
    }
   ],
   "source": [
    "model = best\n",
    "model.fit(xtrain, ytrain)"
   ]
  },
  {
   "cell_type": "code",
   "execution_count": 51,
   "id": "990baebc",
   "metadata": {},
   "outputs": [],
   "source": [
    "pred = model.predict(xtest)"
   ]
  },
  {
   "cell_type": "markdown",
   "id": "f66e1a1e",
   "metadata": {},
   "source": [
    "# Results "
   ]
  },
  {
   "cell_type": "code",
   "execution_count": 52,
   "id": "c7158ebd",
   "metadata": {},
   "outputs": [
    {
     "name": "stdout",
     "output_type": "stream",
     "text": [
      "Accuracy Score: 0.7987012987012987\n"
     ]
    }
   ],
   "source": [
    "print('Accuracy Score:', accuracy_score(ytest, pred))"
   ]
  },
  {
   "cell_type": "code",
   "execution_count": 53,
   "id": "440fa523",
   "metadata": {},
   "outputs": [
    {
     "data": {
      "text/plain": [
       "<AxesSubplot:>"
      ]
     },
     "execution_count": 53,
     "metadata": {},
     "output_type": "execute_result"
    },
    {
     "data": {
      "image/png": "[encoded data removed]",
      "text/plain": [
       "<Figure size 432x288 with 2 Axes>"
      ]
     },
     "metadata": {
      "needs_background": "light"
     },
     "output_type": "display_data"
    }
   ],
   "source": [
    "mat = confusion_matrix(ytest, pred)\n",
    "sns.heatmap(mat, annot=True, fmt='d', xticklabels=['LowRisk', 'HighRisk'], yticklabels=['LowRisk', 'HighRisk'])"
   ]
  },
  {
   "cell_type": "code",
   "execution_count": 54,
   "id": "e55d67a4",
   "metadata": {},
   "outputs": [
    {
     "name": "stdout",
     "output_type": "stream",
     "text": [
      "              precision    recall  f1-score   support\n",
      "\n",
      "           0       0.90      0.78      0.83       100\n",
      "           1       0.67      0.83      0.74        54\n",
      "\n",
      "    accuracy                           0.80       154\n",
      "   macro avg       0.78      0.81      0.79       154\n",
      "weighted avg       0.82      0.80      0.80       154\n",
      "\n"
     ]
    }
   ],
   "source": [
    "print(classification_report(ytest, pred))"
   ]
  },
  {
   "cell_type": "code",
   "execution_count": null,
   "id": "a37431b1",
   "metadata": {},
   "outputs": [],
   "source": []
  }
 ],
 "metadata": {
  "kernelspec": {
   "display_name": "Python 3",
   "language": "python",
   "name": "python3"
  },
  "language_info": {
   "codemirror_mode": {
    "name": "ipython",
    "version": 3
   },
   "file_extension": ".py",
   "mimetype": "text/x-python",
   "name": "python",
   "nbconvert_exporter": "python",
   "pygments_lexer": "ipython3",
   "version": "3.9.12"
  }
 },
 "nbformat": 4,
 "nbformat_minor": 5
}
